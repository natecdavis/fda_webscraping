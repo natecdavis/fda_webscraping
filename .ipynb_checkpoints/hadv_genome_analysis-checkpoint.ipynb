{
 "cells": [
  {
   "cell_type": "code",
   "execution_count": 95,
   "id": "2eaa8365",
   "metadata": {},
   "outputs": [],
   "source": [
    "# Import and install necessary packages.\n",
    "import subprocess\n",
    "import sys\n",
    "\n",
    "def install(package):\n",
    "    subprocess.check_call([sys.executable, \"-m\", \"pip\", \"install\", package])"
   ]
  },
  {
   "cell_type": "code",
   "execution_count": 97,
   "id": "26cb63b1",
   "metadata": {},
   "outputs": [
    {
     "name": "stdout",
     "output_type": "stream",
     "text": [
      "Requirement already satisfied: Bio in /Users/nathanieldavis/opt/miniconda3/lib/python3.9/site-packages (1.3.6)\n",
      "Requirement already satisfied: mygene in /Users/nathanieldavis/opt/miniconda3/lib/python3.9/site-packages (from Bio) (3.2.2)\n",
      "Requirement already satisfied: biopython>=1.79 in /Users/nathanieldavis/opt/miniconda3/lib/python3.9/site-packages (from Bio) (1.79)\n",
      "Requirement already satisfied: tqdm in /Users/nathanieldavis/opt/miniconda3/lib/python3.9/site-packages (from Bio) (4.61.2)\n",
      "Requirement already satisfied: requests in /Users/nathanieldavis/opt/miniconda3/lib/python3.9/site-packages (from Bio) (2.25.1)\n",
      "Requirement already satisfied: numpy in /Users/nathanieldavis/opt/miniconda3/lib/python3.9/site-packages (from biopython>=1.79->Bio) (1.21.3)\n",
      "Requirement already satisfied: biothings-client>=0.2.6 in /Users/nathanieldavis/opt/miniconda3/lib/python3.9/site-packages (from mygene->Bio) (0.2.6)\n",
      "Requirement already satisfied: chardet<5,>=3.0.2 in /Users/nathanieldavis/opt/miniconda3/lib/python3.9/site-packages (from requests->Bio) (4.0.0)\n",
      "Requirement already satisfied: urllib3<1.27,>=1.21.1 in /Users/nathanieldavis/opt/miniconda3/lib/python3.9/site-packages (from requests->Bio) (1.26.6)\n",
      "Requirement already satisfied: certifi>=2017.4.17 in /Users/nathanieldavis/opt/miniconda3/lib/python3.9/site-packages (from requests->Bio) (2021.5.30)\n",
      "Requirement already satisfied: idna<3,>=2.5 in /Users/nathanieldavis/opt/miniconda3/lib/python3.9/site-packages (from requests->Bio) (2.10)\n"
     ]
    }
   ],
   "source": [
    "install(\"Bio\")"
   ]
  },
  {
   "cell_type": "code",
   "execution_count": 98,
   "id": "cd75768a",
   "metadata": {},
   "outputs": [],
   "source": [
    "from Bio import SeqIO\n",
    "from Bio import Entrez\n",
    "import pylab"
   ]
  },
  {
   "cell_type": "code",
   "execution_count": 99,
   "id": "cfc70bf4",
   "metadata": {},
   "outputs": [],
   "source": [
    "Entrez.email = \"nathaniel.davis@tufts.edu\""
   ]
  },
  {
   "cell_type": "code",
   "execution_count": 88,
   "id": "dca85c3b",
   "metadata": {},
   "outputs": [],
   "source": [
    "# Query the nuccore database for the records in question.\n",
    "handle = Entrez.esearch(db=\"nuccore\", term=\"Human adenovirus A AND Human adenovirus A[Organism]\", retmax=500)\n",
    "record = Entrez.read(handle)"
   ]
  },
  {
   "cell_type": "code",
   "execution_count": 89,
   "id": "53c7f74f",
   "metadata": {},
   "outputs": [],
   "source": [
    "# Fetch the records in a structured format.\n",
    "handle = Entrez.efetch(db=\"nuccore\", id=record[\"IdList\"], rettype=\"gb\", retmode=\"text\")"
   ]
  },
  {
   "cell_type": "code",
   "execution_count": 90,
   "id": "4a539808",
   "metadata": {},
   "outputs": [],
   "source": [
    "# Generate and array of sequence lengths, one for each record.\n",
    "sizes = [len(rec) for rec in SeqIO.parse(handle, \"genbank\")]"
   ]
  },
  {
   "cell_type": "code",
   "execution_count": 91,
   "id": "1252bfcb",
   "metadata": {},
   "outputs": [],
   "source": [
    "# Sort the sequence length array.\n",
    "sizes.sort()"
   ]
  },
  {
   "cell_type": "markdown",
   "id": "39bea4cc",
   "metadata": {},
   "source": [
    "### Outlier Analysis"
   ]
  },
  {
   "cell_type": "code",
   "execution_count": 92,
   "id": "9eef6900",
   "metadata": {},
   "outputs": [
    {
     "data": {
      "image/png": "[encoded data removed]",
      "text/plain": [
       "<Figure size 432x288 with 1 Axes>"
      ]
     },
     "metadata": {
      "needs_background": "light"
     },
     "output_type": "display_data"
    }
   ],
   "source": [
    "pylab.hist(sizes, bins=50)\n",
    "pylab.title(\n",
    "    \"%i hadv sequences\\nLengths %i to %i\" % (len(sizes), min(sizes), max(sizes))\n",
    ")\n",
    "pylab.xlabel(\"Sequence length (bp)\")\n",
    "pylab.ylabel(\"Count\")\n",
    "pylab.show()"
   ]
  },
  {
   "cell_type": "markdown",
   "id": "215d1b3f",
   "metadata": {},
   "source": [
    "The distribution of sequence lengths appears to be bimodal, with approximately 88% of observations falling in the ranges [60, 1000] (57%) and [33533, 34177] (31%). Additionally, no observations fall in the range (5641, 33533).\n",
    "\n",
    "If we separate the values less than or equal to 5641 from those greater than or equal to 33533, we can get a better sense of observations that deviate from each of the two unimodal distributions."
   ]
  },
  {
   "cell_type": "code",
   "execution_count": 93,
   "id": "8f5fbef0",
   "metadata": {},
   "outputs": [
    {
     "data": {
      "image/png": "[encoded data removed]",
      "text/plain": [
       "<Figure size 432x288 with 1 Axes>"
      ]
     },
     "metadata": {
      "needs_background": "light"
     },
     "output_type": "display_data"
    }
   ],
   "source": [
    "pylab.hist(sizes[:235], bins=50)\n",
    "pylab.title(\n",
    "    \"%i hadv sequences\\nLengths %i to %i\" % (len(sizes[:235]), min(sizes[:235]), max(sizes[:235]))\n",
    ")\n",
    "pylab.xlabel(\"Sequence length (bp)\")\n",
    "pylab.ylabel(\"Count\")\n",
    "pylab.show()"
   ]
  },
  {
   "cell_type": "markdown",
   "id": "e3b6b233",
   "metadata": {},
   "source": [
    "Based on the above histogram, sequences with length 2500 to 6000 base pairs appear to deviate from the dominant mode within this range."
   ]
  },
  {
   "cell_type": "code",
   "execution_count": 94,
   "id": "5fd99e90",
   "metadata": {},
   "outputs": [
    {
     "data": {
      "image/png": "[encoded data removed]",
      "text/plain": [
       "<Figure size 432x288 with 1 Axes>"
      ]
     },
     "metadata": {
      "needs_background": "light"
     },
     "output_type": "display_data"
    }
   ],
   "source": [
    "pylab.hist(sizes[235:], bins=50)\n",
    "pylab.title(\n",
    "    \"%i hadv sequences\\nLengths %i to %i\" % (len(sizes[235:]), min(sizes[235:]), max(sizes[235:]))\n",
    ")\n",
    "pylab.xlabel(\"Sequence length (bp)\")\n",
    "pylab.ylabel(\"Count\")\n",
    "pylab.show()"
   ]
  },
  {
   "cell_type": "markdown",
   "id": "56ccae47",
   "metadata": {},
   "source": [
    "For sequences in our high range, those whose lengths fall above 34100 also appear to deviate from the main mode. One might also want to look at the one sequence with length < 33600 as another potential outlier."
   ]
  }
 ],
 "metadata": {
  "kernelspec": {
   "display_name": "Python 3 (ipykernel)",
   "language": "python",
   "name": "python3"
  },
  "language_info": {
   "codemirror_mode": {
    "name": "ipython",
    "version": 3
   },
   "file_extension": ".py",
   "mimetype": "text/x-python",
   "name": "python",
   "nbconvert_exporter": "python",
   "pygments_lexer": "ipython3",
   "version": "3.9.5"
  }
 },
 "nbformat": 4,
 "nbformat_minor": 5
}
